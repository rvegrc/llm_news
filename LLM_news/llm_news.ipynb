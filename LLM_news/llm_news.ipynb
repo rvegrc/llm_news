{
 "cells": [
  {
   "cell_type": "markdown",
   "metadata": {},
   "source": [
    "Задача:\n",
    "Выполнить оценку работы библиотеки по извлечению текста новости. Необходимо определить полноту извлекаемого текста и оценить значимость тех частей текста, которые выделить не удалось. Проанализировать и предложить изменения в алгоритм работы библиотеки.\n",
    " \n",
    "Желаемый результат:\n",
    "Заполненная таблица -\n",
    "с эталоном текста для каждой новости;\n",
    "с результатами оценки полноты (сравнения эталона текста и текста, извлеченного библиотекой);\n",
    "оценка значимости текста, который выделить не удалось;\n",
    "комментарии, если есть предложения по улучшению."
   ]
  },
  {
   "cell_type": "code",
   "execution_count": null,
   "metadata": {},
   "outputs": [],
   "source": [
    "# 📦 Стандартные библиотеки\n",
    "import os\n",
    "import re\n",
    "from typing import List\n",
    "from operator import itemgetter\n",
    "\n",
    "# 📦 Сторонние библиотеки\n",
    "import pandas as pd\n",
    "from pydantic import BaseModel, Field\n",
    "\n",
    "# 🚀 LangChain и расширения\n",
    "from langchain.prompts import PromptTemplate\n",
    "from langchain_core.prompts import ChatPromptTemplate\n",
    "from langchain_ollama.llms import OllamaLLM\n",
    "from langchain.chat_models import ChatOpenAI\n",
    "from langchain.chains import LLMChain\n",
    "from langchain_core.output_parsers import StrOutputParser\n",
    "from langchain.output_parsers import (\n",
    "    PydanticOutputParser,\n",
    "    StructuredOutputParser,\n",
    "    OutputFixingParser,\n",
    ")\n",
    "from langchain_community.document_loaders import PyPDFLoader, Docx2txtLoader\n",
    "from langchain_text_splitters import RecursiveCharacterTextSplitter\n",
    "from langchain_core.documents import Document\n",
    "from langchain_core.runnables import (\n",
    "    Runnable,\n",
    "    RunnablePassthrough,\n",
    "    chain,\n",
    "    RunnableConfig,\n",
    ")\n",
    "\n",
    "# 🔎 Graph Retriever\n",
    "from langchain_graph_retriever import GraphRetriever\n",
    "from graph_retriever.strategies import Eager\n",
    "from langchain.schema import Document  # Если нужен именно этот Document\n",
    "from dotenv import load_dotenv\n",
    "import glob\n",
    "from langchain_core.documents import Document\n",
    "from keybert import KeyBERT\n",
    "from langchain_huggingface.embeddings import HuggingFaceEmbeddings\n",
    "from langchain_chroma import Chroma\n",
    "from langchain_deepseek import ChatDeepSeek"
   ]
  },
  {
   "cell_type": "code",
   "execution_count": null,
   "metadata": {},
   "outputs": [
    {
     "data": {
      "application/vnd.jupyter.widget-view+json": {
       "model_id": "87bb01b503c44a12850fd7a928273221",
       "version_major": 2,
       "version_minor": 0
      },
      "text/plain": [
       "Loading checkpoint shards:   0%|          | 0/3 [00:00<?, ?it/s]"
      ]
     },
     "metadata": {},
     "output_type": "display_data"
    },
    {
     "name": "stderr",
     "output_type": "stream",
     "text": [
      "Device set to use cpu\n"
     ]
    },
    {
     "data": {
      "application/vnd.jupyter.widget-view+json": {
       "model_id": "5b6d0609f32142d1942062359b7398b1",
       "version_major": 2,
       "version_minor": 0
      },
      "text/plain": [
       "Loading checkpoint shards:   0%|          | 0/2 [00:00<?, ?it/s]"
      ]
     },
     "metadata": {},
     "output_type": "display_data"
    },
    {
     "name": "stderr",
     "output_type": "stream",
     "text": [
      "Device set to use cpu\n"
     ]
    }
   ],
   "source": [
    "# import pandas as pd\n",
    "\n",
    "# from pydantic import BaseModel, Field\n",
    "# from typing import Dict, Any, List, Optional\n",
    "\n",
    "# from langchain_core.prompts import PromptTemplate, ChatPromptTemplate\n",
    "# from langchain_core.output_parsers import PydanticOutputParser, StrOutputParser\n",
    "# from langchain.output_parsers import OutputFixingParser\n",
    "# from langchain_core.tools import tool\n",
    "# from langchain_core.runnables import RunnablePassthrough\n",
    "# from langchain.agents import initialize_agent, AgentType\n",
    "\n",
    "\n",
    "# from langchain_huggingface.llms import HuggingFacePipeline\n",
    "# from transformers import AutoModelForCausalLM, AutoTokenizer, pipeline\n",
    "\n",
    "# gpu_llm = HuggingFacePipeline.from_model_id(\n",
    "#     model_id=\"../models/Mistral-7B-Instruct-v0.3\",\n",
    "#     task=\"text-generation\",\n",
    "#     pipeline_kwargs={\"max_new_tokens\": 50},\n",
    "# )\n",
    "\n",
    "\n",
    "# cpu_llm = HuggingFacePipeline.from_model_id(\n",
    "#     model_id=\"../models/DeepSeek-R1-Distill-Qwen-7B\",\n",
    "#     task=\"text-generation\",\n",
    "#     pipeline_kwargs={\"max_new_tokens\": 50},\n",
    "# )\n"
   ]
  },
  {
   "cell_type": "code",
   "execution_count": 2,
   "metadata": {},
   "outputs": [
    {
     "name": "stdout",
     "output_type": "stream",
     "text": [
      "Question: What is electroencephalography?\n",
      "\n",
      "Answer: Let's think step by step.\n",
      "\n",
      "Electroencephalography (EEG) is a technique used to record the electrical activity of the brain.\n",
      "\n",
      "Here's a breakdown:\n",
      "\n",
      "1. 'Electro': Related to electricity.\n",
      "\n",
      "2\n"
     ]
    }
   ],
   "source": [
    "\n",
    "template = \"\"\"Question: {question}\n",
    "\n",
    "Answer: Let's think step by step.\"\"\"\n",
    "prompt = PromptTemplate.from_template(template)\n",
    "\n",
    "\n",
    "gpu_chain = prompt | gpu_llm\n",
    "\n",
    "question = \"What is electroencephalography?\"\n",
    "\n",
    "print(gpu_chain.invoke({\"question\": question}))"
   ]
  },
  {
   "cell_type": "code",
   "execution_count": null,
   "metadata": {},
   "outputs": [
    {
     "name": "stdout",
     "output_type": "stream",
     "text": [
      "Question: What is electroencephalography?\n",
      "\n",
      "Answer: Let's think step by step. Electroencephalography, or EEG, is a method used to record electrical activity in the brain. It works by placing small sensors, called electrodes, on the scalp. These electrodes detect the electrical signals produced by the brain's neurons as they communicate\n"
     ]
    }
   ],
   "source": [
    "template = \"\"\"Question: {question}\n",
    "\n",
    "Answer: Let's think step by step.\"\"\"\n",
    "prompt = PromptTemplate.from_template(template)\n",
    "\n",
    "cpu_chain = prompt | cpu_llm\n",
    "\n",
    "question = \"What is electroencephalography?\"\n",
    "\n",
    "print(cpu_chain.invoke({\"question\": question}))"
   ]
  },
  {
   "cell_type": "markdown",
   "metadata": {},
   "source": [
    "## Load data"
   ]
  },
  {
   "cell_type": "code",
   "execution_count": null,
   "metadata": {},
   "outputs": [],
   "source": [
    "data_test_web = pd.read_csv(\"tmp/data_test_web.csv\")\n",
    "data_test_web = data_test_web.dropna(subset=[\"web_text\"], axis='raws').reset_index(drop=True)\n",
    "data_test_web.head()"
   ]
  }
 ],
 "metadata": {
  "kernelspec": {
   "display_name": "test-assignment",
   "language": "python",
   "name": "python3"
  },
  "language_info": {
   "codemirror_mode": {
    "name": "ipython",
    "version": 3
   },
   "file_extension": ".py",
   "mimetype": "text/x-python",
   "name": "python",
   "nbconvert_exporter": "python",
   "pygments_lexer": "ipython3",
   "version": "3.12.9"
  }
 },
 "nbformat": 4,
 "nbformat_minor": 2
}
